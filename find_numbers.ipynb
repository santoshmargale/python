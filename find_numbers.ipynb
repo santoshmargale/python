{
  "nbformat": 4,
  "nbformat_minor": 0,
  "metadata": {
    "colab": {
      "provenance": [],
      "authorship_tag": "ABX9TyPC2Jipp7COgJlx8xRQjLqj",
      "include_colab_link": true
    },
    "kernelspec": {
      "name": "python3",
      "display_name": "Python 3"
    },
    "language_info": {
      "name": "python"
    }
  },
  "cells": [
    {
      "cell_type": "markdown",
      "metadata": {
        "id": "view-in-github",
        "colab_type": "text"
      },
      "source": [
        "<a href=\"https://colab.research.google.com/github/santoshmargale/python/blob/main/find_numbers.ipynb\" target=\"_parent\"><img src=\"https://colab.research.google.com/assets/colab-badge.svg\" alt=\"Open In Colab\"/></a>"
      ]
    },
    {
      "cell_type": "code",
      "execution_count": 7,
      "metadata": {
        "colab": {
          "base_uri": "https://localhost:8080/"
        },
        "id": "QOr1mbNZhkDw",
        "outputId": "7375fc77-4b6f-46b6-9d64-db4335150fd2"
      },
      "outputs": [
        {
          "output_type": "stream",
          "name": "stdout",
          "text": [
            "Enter a number (enter 'q' to stop): 1\n",
            "Enter a number (enter 'q' to stop): 3\n",
            "Enter a number (enter 'q' to stop): 6\n",
            "Enter a number (enter 'q' to stop): 0\n",
            "Enter a number (enter 'q' to stop): q\n",
            "The largest number is 6\n",
            "The smallest number is 0\n",
            "The sum of the numbers is 10\n",
            "The average of the numbers is 2.5\n"
          ]
        }
      ],
      "source": [
        "numbers = []\n",
        "while True:\n",
        "    number = input(\"Enter a number (enter 'q' to stop): \")\n",
        "    if number == 'q':\n",
        "        break\n",
        "    numbers.append(int(number))\n",
        "\n",
        "if not numbers:\n",
        "    print(\"No numbers entered!\")\n",
        "else:\n",
        "    largest = max(numbers)\n",
        "    smallest = min(numbers)\n",
        "    numbers.sort()\n",
        "    total = sum(numbers)\n",
        "    average = total / len(numbers)\n",
        "    print(\"The largest number is\", largest)\n",
        "    print(\"The smallest number is\", smallest)\n",
        "    print(\"The sum of the numbers is\", total)\n",
        "    print(\"The average of the numbers is\", average)\n"
      ]
    }
  ]
}