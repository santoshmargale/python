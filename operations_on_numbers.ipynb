{
  "nbformat": 4,
  "nbformat_minor": 0,
  "metadata": {
    "colab": {
      "provenance": [],
      "authorship_tag": "ABX9TyOc87hf8ft6c2PzdfftOZxw",
      "include_colab_link": true
    },
    "kernelspec": {
      "name": "python3",
      "display_name": "Python 3"
    },
    "language_info": {
      "name": "python"
    }
  },
  "cells": [
    {
      "cell_type": "markdown",
      "metadata": {
        "id": "view-in-github",
        "colab_type": "text"
      },
      "source": [
        "<a href=\"https://colab.research.google.com/github/santoshmargale/python/blob/main/operations_on_numbers.ipynb\" target=\"_parent\"><img src=\"https://colab.research.google.com/assets/colab-badge.svg\" alt=\"Open In Colab\"/></a>"
      ]
    },
    {
      "cell_type": "code",
      "execution_count": 2,
      "metadata": {
        "colab": {
          "base_uri": "https://localhost:8080/"
        },
        "id": "IOsMHnYjsEAD",
        "outputId": "1658f77d-309a-47a1-b06d-3f8842122c1a"
      },
      "outputs": [
        {
          "output_type": "stream",
          "name": "stdout",
          "text": [
            "enter the larger number:746\n",
            "enter the smaller number:45\n",
            "the multiplication is 33570.0\n",
            "the division is 26.0\n",
            "746.0 is even\n",
            "45.0 is odd\n",
            "the average is 395.5\n",
            "the difference is 701.0\n",
            "the sum is 791.0\n"
          ]
        }
      ],
      "source": [
        "larger_number=float(input(\"enter the larger number:\"))\n",
        "smaller_number=float(input(\"enter the smaller number:\"))\n",
        "answer= larger_number*smaller_number\n",
        "print(\"the multiplication is\",answer)\n",
        "\n",
        "answer= larger_number%smaller_number\n",
        "print(\"the division is\",answer)\n",
        "\n",
        "if larger_number%2==0:\n",
        "  print(larger_number,\"is even\")\n",
        "else:\n",
        "  print(larger_number,\"is odd\")\n",
        "if smaller_number%2==0:\n",
        "  print(smaller_number,\"is even\")\n",
        "else:\n",
        "  print(smaller_number,\"is odd\")\n",
        "\n",
        "answer=(larger_number+smaller_number)/2\n",
        "print(\"the average is\",answer)\n",
        "\n",
        "answer=larger_number-smaller_number\n",
        "print(\"the difference is\",answer)\n",
        "\n",
        "answer=larger_number+smaller_number\n",
        "print(\"the sum is\",answer)"
      ]
    }
  ]
}