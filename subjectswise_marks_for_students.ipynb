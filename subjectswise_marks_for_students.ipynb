{
  "nbformat": 4,
  "nbformat_minor": 0,
  "metadata": {
    "colab": {
      "provenance": [],
      "authorship_tag": "ABX9TyP7M8rSnT9Je5TGaw2PspXD",
      "include_colab_link": true
    },
    "kernelspec": {
      "name": "python3",
      "display_name": "Python 3"
    },
    "language_info": {
      "name": "python"
    }
  },
  "cells": [
    {
      "cell_type": "markdown",
      "metadata": {
        "id": "view-in-github",
        "colab_type": "text"
      },
      "source": [
        "<a href=\"https://colab.research.google.com/github/santoshmargale/python/blob/main/subjectswise_marks_for_students.ipynb\" target=\"_parent\"><img src=\"https://colab.research.google.com/assets/colab-badge.svg\" alt=\"Open In Colab\"/></a>"
      ]
    },
    {
      "cell_type": "code",
      "execution_count": null,
      "metadata": {
        "colab": {
          "base_uri": "https://localhost:8080/"
        },
        "id": "R3wA1FQSbsKp",
        "outputId": "2499cbb7-88bf-4b2e-dc10-c3fff60815b3"
      },
      "outputs": [
        {
          "output_type": "stream",
          "name": "stdout",
          "text": [
            "Enter the number of students: 2\n",
            "\n",
            "Enter details for student 1\n"
          ]
        }
      ],
      "source": [
        "def store_student_marks():\n",
        "    students = {}\n",
        "    num_students = int(input(\"Enter the number of students: \"))\n",
        "    for i in range(num_students):\n",
        "        print(f\"\\nEnter details for student {i+1}\")\n",
        "        roll_no = int(input(\"Enter Roll Number: \"))\n",
        "        name = input(\"Enter Name: \")\n",
        "        subjects = {}\n",
        "        for j in range(4):\n",
        "            subject_name = input(\"Enter Subject {} name: \".format(j+1))\n",
        "            marks = int(input(\"Enter Marks for {}: \".format(subject_name)))\n",
        "            subjects[subject_name] = marks\n",
        "        students[roll_no] = {\"name\": name, \"subjects\": subjects}\n",
        "    return students\n",
        "\n",
        "students = store_student_marks()\n",
        "print(\"\\nStudent Marks Details:\")\n",
        "for roll_no, student in students.items():\n",
        "    print(f\"\\nRoll No: {roll_no}\")\n",
        "    print(f\"Name: {student['name']}\")\n",
        "    for subject, marks in student[\"subjects\"].items():\n",
        "        print(f\"{subject}: {marks}\")"
      ]
    }
  ]
}